{
 "cells": [
  {
   "cell_type": "code",
   "execution_count": 1,
   "id": "ad77bbaa-ca55-489f-9801-9206c281083c",
   "metadata": {},
   "outputs": [],
   "source": [
    "import numpy as np\n",
    "import matplotlib.pyplot as plt\n",
    "from tqdm.notebook import tqdm"
   ]
  },
  {
   "cell_type": "code",
   "execution_count": 2,
   "id": "98ebab41-f4ac-4508-9bd2-02003d615027",
   "metadata": {},
   "outputs": [],
   "source": [
    "tissue_data_fn = '../../python/tissue_classifier/datasets/tissue_dataset_withglue.npz'"
   ]
  },
  {
   "cell_type": "code",
   "execution_count": 3,
   "id": "17e72181-4fe7-4871-abf8-92fc93148e6b",
   "metadata": {},
   "outputs": [],
   "source": [
    "data = np.load(tissue_data_fn)"
   ]
  },
  {
   "cell_type": "code",
   "execution_count": 4,
   "id": "006998ee-7141-4b64-9de7-b345ce9ecd78",
   "metadata": {},
   "outputs": [],
   "source": [
    "x = data['x']\n",
    "y = data['y']\n",
    "d = data['d']"
   ]
  },
  {
   "cell_type": "code",
   "execution_count": 16,
   "id": "24eaf953-72df-4588-9288-3d7fca2fc583",
   "metadata": {},
   "outputs": [
    {
     "data": {
      "text/plain": [
       "(35421067, 3)"
      ]
     },
     "execution_count": 16,
     "metadata": {},
     "output_type": "execute_result"
    }
   ],
   "source": [
    "x.shape"
   ]
  },
  {
   "cell_type": "code",
   "execution_count": 17,
   "id": "ebf2e975-53e6-41f6-b81c-561a4912e4a9",
   "metadata": {},
   "outputs": [
    {
     "data": {
      "text/plain": [
       "(35421067,)"
      ]
     },
     "execution_count": 17,
     "metadata": {},
     "output_type": "execute_result"
    }
   ],
   "source": [
    "y.shape"
   ]
  },
  {
   "cell_type": "code",
   "execution_count": 19,
   "id": "c445008e-bc59-4066-aec5-cd458e7feb47",
   "metadata": {},
   "outputs": [
    {
     "data": {
      "text/plain": [
       "(35421067, 4)"
      ]
     },
     "execution_count": 19,
     "metadata": {},
     "output_type": "execute_result"
    }
   ],
   "source": [
    "d.shape"
   ]
  },
  {
   "cell_type": "markdown",
   "id": "9de69512-3bb5-410c-a1d9-c28f178ed702",
   "metadata": {},
   "source": [
    "### Test split inference"
   ]
  },
  {
   "cell_type": "code",
   "execution_count": 5,
   "id": "53453fb4-f138-4e9d-bfa4-98170615f1b0",
   "metadata": {},
   "outputs": [],
   "source": [
    "import sys\n",
    "import numpy as np\n",
    "\n",
    "import pyeddl.eddl as eddl\n",
    "import pyecvl.ecvl as ecvl\n",
    "from pyeddl.tensor import Tensor\n",
    "\n",
    "sys.path.append('../../python/')\n",
    "import models\n",
    "import pickle"
   ]
  },
  {
   "cell_type": "code",
   "execution_count": 6,
   "id": "bd408097-0d68-43e3-916e-ca69c1587cda",
   "metadata": {},
   "outputs": [],
   "source": [
    "def load_model(model_weights, gpu=True):\n",
    "    ## Load the ANN tissue detector model implemented by using pyeddl\n",
    "    ## Create ANN topology (Same used during training phase)\n",
    "    ## The model is assumed being trained by using RGB triplets.\n",
    "    net = models.tissue_detector_DNN()\n",
    "    eddl.build(\n",
    "        net,\n",
    "        eddl.rmsprop(0.00001),\n",
    "        [\"soft_cross_entropy\"],\n",
    "        [\"categorical_accuracy\"],\n",
    "        eddl.CS_GPU() if gpu else eddl.CS_CPU()\n",
    "    )\n",
    "    # Load weights\n",
    "    eddl.load(net, model_weights, \"bin\")\n",
    "\n",
    "    return net\n"
   ]
  },
  {
   "cell_type": "code",
   "execution_count": 7,
   "id": "ed6ded7c-991d-4e4e-a9dc-52472be3a98f",
   "metadata": {},
   "outputs": [],
   "source": [
    "data = pickle.load(open(\"../../python/tissue_classifier/splits_used.pckl\", \"rb\"))"
   ]
  },
  {
   "cell_type": "code",
   "execution_count": 8,
   "id": "fa23c078-2729-45fa-a8c0-7de974655404",
   "metadata": {},
   "outputs": [],
   "source": [
    "N = data[\"x_test\"].shape[0]\n",
    "x_test = data['x_test']\n",
    "y_test = data['y_test']"
   ]
  },
  {
   "cell_type": "code",
   "execution_count": 9,
   "id": "af67f19c-7440-4780-9ce0-2515caa3fb3e",
   "metadata": {},
   "outputs": [],
   "source": [
    "model_fn = '../../python/tissue_classifier/tissue_detector_model.bin'\n",
    "net = load_model(model_fn)\n",
    "eddl.summary(net)\n",
    "\n",
    "bs = 1024\n",
    "n_batches = N // bs"
   ]
  },
  {
   "cell_type": "code",
   "execution_count": 10,
   "id": "aae9cf18-7e25-43ef-8e5a-4aaae4c70f10",
   "metadata": {},
   "outputs": [],
   "source": [
    "results = []\n",
    "\n",
    "for b_index in range(n_batches):\n",
    "    #print (b_index*bs, (b_index+1)*bs)\n",
    "    x = Tensor(x_test[b_index*bs:(b_index+1)*bs])\n",
    "    \n",
    "    eddl.forward(net, [x])\n",
    "\n",
    "    net_out = eddl.getOutput(net.layers[-1]).getdata()\n",
    "    for r in net_out:\n",
    "        results.append(r)\n",
    "        \n",
    "results = np.array(results)"
   ]
  },
  {
   "cell_type": "code",
   "execution_count": 11,
   "id": "b6e3ee8b-684b-48f0-859a-d8f7d0d2d046",
   "metadata": {},
   "outputs": [
    {
     "data": {
      "text/plain": [
       "True"
      ]
     },
     "execution_count": 11,
     "metadata": {},
     "output_type": "execute_result"
    }
   ],
   "source": [
    "y_test_samples = y_test[0:results.shape[0]]\n",
    "results.shape == y_test_samples.shape"
   ]
  },
  {
   "cell_type": "code",
   "execution_count": 14,
   "id": "eec2da70-14c6-43e1-83a8-4914fd86793a",
   "metadata": {},
   "outputs": [
    {
     "name": "stdout",
     "output_type": "stream",
     "text": [
      "AUC: 0.988\n"
     ]
    }
   ],
   "source": [
    "import numpy as np\n",
    "from sklearn import metrics\n",
    "\n",
    "y_true = y_test_samples[:,0]\n",
    "y_pred = results[:,0]\n",
    "fpr, tpr, thresholds = metrics.roc_curve(y_true, y_pred)\n",
    "auc = metrics.auc(fpr, tpr)\n",
    "print (\"AUC: %.3f\" % auc)"
   ]
  },
  {
   "cell_type": "code",
   "execution_count": 15,
   "id": "c3d2cd1c-e714-487a-b2db-88c3950eea6e",
   "metadata": {},
   "outputs": [
    {
     "data": {
      "application/vnd.jupyter.widget-view+json": {
       "model_id": "6688685a58cf43909660c26f943a306b",
       "version_major": 2,
       "version_minor": 0
      },
      "text/plain": [
       "  0%|          | 0/48 [00:00<?, ?it/s]"
      ]
     },
     "metadata": {},
     "output_type": "display_data"
    }
   ],
   "source": [
    "a_s_l = []\n",
    "pred = np.zeros_like(y_pred)\n",
    "th = thresholds[1::10000]\n",
    "bar = tqdm(th)\n",
    "for t in bar:\n",
    "    pred[y_pred >= t] = 1\n",
    "    pred[y_pred < t] = 0\n",
    "    a_s = metrics.accuracy_score(y_true, pred)\n",
    "    a_s_l.append(a_s)\n",
    "\n",
    "m_val = max(a_s_l)\n",
    "th_m_val = th[np.argmax(a_s_l)]"
   ]
  },
  {
   "cell_type": "code",
   "execution_count": 16,
   "id": "046db6dd-69c9-4a06-9138-0c64193f8326",
   "metadata": {},
   "outputs": [
    {
     "name": "stdout",
     "output_type": "stream",
     "text": [
      "[0.91422843] [0.99467023]\n"
     ]
    }
   ],
   "source": [
    "prec, rec, th_pr = metrics.precision_recall_curve(y_true, y_pred)\n",
    "th_m_val_index = np.where(th_pr == th_m_val)\n",
    "print (prec[th_m_val_index], rec[th_m_val_index])\n",
    "\n",
    "diff2 = np.power((prec[1:]-rec[1:]),2.0)\n",
    "th_min_diff = th_pr[diff2.argmin()]"
   ]
  },
  {
   "cell_type": "code",
   "execution_count": 17,
   "id": "d6236529-3eeb-4773-a8ae-a93833bc9a00",
   "metadata": {},
   "outputs": [
    {
     "name": "stdout",
     "output_type": "stream",
     "text": [
      "0.9506687173679361\n",
      "0.6107428\n"
     ]
    }
   ],
   "source": [
    "print (m_val)\n",
    "print (th_m_val)"
   ]
  },
  {
   "cell_type": "code",
   "execution_count": 18,
   "id": "7e3a4471-b740-4215-a5fa-f9f017e63338",
   "metadata": {},
   "outputs": [
    {
     "data": {
      "image/png": "[encoded data removed]",
      "text/plain": [
       "<Figure size 864x576 with 4 Axes>"
      ]
     },
     "metadata": {
      "needs_background": "light"
     },
     "output_type": "display_data"
    }
   ],
   "source": [
    "fig, axs = plt.subplots(2,2,figsize=(12,8))\n",
    "\n",
    "ax = axs[0,0]\n",
    "ax.plot(fpr, tpr, label='AUC: %.3f' % auc)\n",
    "ax.legend(loc='lower right')\n",
    "ax.grid()\n",
    "ax.set_xlabel('fpr')\n",
    "ax.set_ylabel('tpr (recall)')\n",
    "ax.set_title('ROC')\n",
    "\n",
    "ax = axs[0,1]\n",
    "ax.plot(prec, rec)\n",
    "ax.grid()\n",
    "ax.set_xlabel('Precision')\n",
    "ax.set_ylabel('Recall')\n",
    "ax.set_title('Precision-Recall')\n",
    "\n",
    "ax = axs[1,0]\n",
    "ax.plot(th, a_s_l)\n",
    "ax.axhline(m_val, label='max acc: %.3f' % m_val, c='g', ls = '--')\n",
    "ax.axvline(th_m_val, label='th at max acc: %.2f' % th_m_val, c='k', ls='--')\n",
    "#ax.axvline(th_min_diff, c='r', ls='--', label=r'th $prec \\approx recall$: %.2f' % th_min_diff)\n",
    "ax.legend()\n",
    "ax.grid()\n",
    "ax.set_title('Accuracy vs threshold')\n",
    "ax.set_xlabel('Threshold')\n",
    "ax.set_ylabel('Accuracy')\n",
    "\n",
    "ax = axs[1,1]\n",
    "ax.plot(th_pr[:], prec[1:], label='Precision')\n",
    "ax.plot(th_pr[:], rec[1:], label='Recall')\n",
    "ax.axvline(th_min_diff, c='r', ls='--', label=r'th $prec \\simeq recall$: %.2f' % th_min_diff)\n",
    "#ax.axvline(th_m_val, label='th at max acc: %.2f' % th_m_val, c='k', ls='--')\n",
    "ax.grid()\n",
    "ax.legend()\n",
    "ax.set_xlabel('Threshold')\n",
    "ax.set_title('Precision and Recall vs threshold')\n",
    "\n",
    "plt.tight_layout()"
   ]
  },
  {
   "cell_type": "code",
   "execution_count": null,
   "id": "3badea2f-aee6-4417-a854-4ef897af2c6c",
   "metadata": {},
   "outputs": [],
   "source": []
  }
 ],
 "metadata": {
  "kernelspec": {
   "display_name": "Python 3",
   "language": "python",
   "name": "python3"
  },
  "language_info": {
   "codemirror_mode": {
    "name": "ipython",
    "version": 3
   },
   "file_extension": ".py",
   "mimetype": "text/x-python",
   "name": "python",
   "nbconvert_exporter": "python",
   "pygments_lexer": "ipython3",
   "version": "3.6.9"
  }
 },
 "nbformat": 4,
 "nbformat_minor": 5
}
