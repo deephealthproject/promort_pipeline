{
 "cells": [
  {
   "cell_type": "code",
   "execution_count": 25,
   "id": "younger-glucose",
   "metadata": {},
   "outputs": [],
   "source": [
    "import sklearn as sk\n",
    "import pandas as pd\n",
    "import numpy as np\n",
    "\n",
    "from sklearn.metrics import roc_auc_score, roc_curve, accuracy_score, precision_recall_curve, f1_score\n",
    "import matplotlib.pyplot as plt"
   ]
  },
  {
   "cell_type": "code",
   "execution_count": 26,
   "id": "nearby-bulletin",
   "metadata": {},
   "outputs": [],
   "source": [
    "# filename of the output file of promort_model_evaluation.py\n",
    "fn = '../../python/models_evaluation/cosk_l1_test0/val_8_LSB_10/cosk_l1_bal_tcr_0.80_1.00.pckl_promort_vgg16_weights_ep_18_vacc_0.92.bin/pred.csv'"
   ]
  },
  {
   "cell_type": "code",
   "execution_count": 27,
   "id": "accepting-intermediate",
   "metadata": {},
   "outputs": [],
   "source": [
    "df = pd.read_csv(fn)"
   ]
  },
  {
   "cell_type": "code",
   "execution_count": 28,
   "id": "supreme-pierre",
   "metadata": {},
   "outputs": [
    {
     "data": {
      "text/html": [
       "<div>\n",
       "<style scoped>\n",
       "    .dataframe tbody tr th:only-of-type {\n",
       "        vertical-align: middle;\n",
       "    }\n",
       "\n",
       "    .dataframe tbody tr th {\n",
       "        vertical-align: top;\n",
       "    }\n",
       "\n",
       "    .dataframe thead th {\n",
       "        text-align: right;\n",
       "    }\n",
       "</style>\n",
       "<table border=\"1\" class=\"dataframe\">\n",
       "  <thead>\n",
       "    <tr style=\"text-align: right;\">\n",
       "      <th></th>\n",
       "      <th>patch_id</th>\n",
       "      <th>normal_p</th>\n",
       "      <th>tumor_p</th>\n",
       "      <th>normal_gt</th>\n",
       "      <th>tumor_gt</th>\n",
       "    </tr>\n",
       "  </thead>\n",
       "  <tbody>\n",
       "    <tr>\n",
       "      <th>0</th>\n",
       "      <td>ce4d571a-3637-4738-bbb5-b7854eb78b89</td>\n",
       "      <td>1.00</td>\n",
       "      <td>0.00</td>\n",
       "      <td>1.0</td>\n",
       "      <td>0.0</td>\n",
       "    </tr>\n",
       "    <tr>\n",
       "      <th>1</th>\n",
       "      <td>692c5643-9c6a-4acc-bd6e-342961dde0d5</td>\n",
       "      <td>1.00</td>\n",
       "      <td>0.00</td>\n",
       "      <td>1.0</td>\n",
       "      <td>0.0</td>\n",
       "    </tr>\n",
       "    <tr>\n",
       "      <th>2</th>\n",
       "      <td>7fc069b7-03b5-4b5d-b988-e04e8884e90e</td>\n",
       "      <td>0.05</td>\n",
       "      <td>0.95</td>\n",
       "      <td>1.0</td>\n",
       "      <td>0.0</td>\n",
       "    </tr>\n",
       "    <tr>\n",
       "      <th>3</th>\n",
       "      <td>05a735d6-3ec4-424f-8d39-f5d8ca8261b2</td>\n",
       "      <td>1.00</td>\n",
       "      <td>0.00</td>\n",
       "      <td>1.0</td>\n",
       "      <td>0.0</td>\n",
       "    </tr>\n",
       "    <tr>\n",
       "      <th>4</th>\n",
       "      <td>3cd706ea-9e80-4cf8-bae0-f864418160ce</td>\n",
       "      <td>1.00</td>\n",
       "      <td>0.00</td>\n",
       "      <td>1.0</td>\n",
       "      <td>0.0</td>\n",
       "    </tr>\n",
       "    <tr>\n",
       "      <th>...</th>\n",
       "      <td>...</td>\n",
       "      <td>...</td>\n",
       "      <td>...</td>\n",
       "      <td>...</td>\n",
       "      <td>...</td>\n",
       "    </tr>\n",
       "    <tr>\n",
       "      <th>14531</th>\n",
       "      <td>0dfcf489-794e-4424-8695-9acc0081e520</td>\n",
       "      <td>0.72</td>\n",
       "      <td>0.28</td>\n",
       "      <td>0.0</td>\n",
       "      <td>1.0</td>\n",
       "    </tr>\n",
       "    <tr>\n",
       "      <th>14532</th>\n",
       "      <td>20180107-0dc1-4977-8883-1ee444f55b88</td>\n",
       "      <td>0.00</td>\n",
       "      <td>1.00</td>\n",
       "      <td>0.0</td>\n",
       "      <td>1.0</td>\n",
       "    </tr>\n",
       "    <tr>\n",
       "      <th>14533</th>\n",
       "      <td>fa442490-4e5f-4561-9bcc-a2a648d97145</td>\n",
       "      <td>0.33</td>\n",
       "      <td>0.67</td>\n",
       "      <td>0.0</td>\n",
       "      <td>1.0</td>\n",
       "    </tr>\n",
       "    <tr>\n",
       "      <th>14534</th>\n",
       "      <td>5a5202a9-a0ba-4534-a11d-fa03e9846b2b</td>\n",
       "      <td>0.25</td>\n",
       "      <td>0.75</td>\n",
       "      <td>0.0</td>\n",
       "      <td>1.0</td>\n",
       "    </tr>\n",
       "    <tr>\n",
       "      <th>14535</th>\n",
       "      <td>6ba0bc5a-a839-4120-a8e3-c62408abf049</td>\n",
       "      <td>0.00</td>\n",
       "      <td>1.00</td>\n",
       "      <td>0.0</td>\n",
       "      <td>1.0</td>\n",
       "    </tr>\n",
       "  </tbody>\n",
       "</table>\n",
       "<p>14536 rows × 5 columns</p>\n",
       "</div>"
      ],
      "text/plain": [
       "                                   patch_id  normal_p  tumor_p  normal_gt  \\\n",
       "0      ce4d571a-3637-4738-bbb5-b7854eb78b89      1.00     0.00        1.0   \n",
       "1      692c5643-9c6a-4acc-bd6e-342961dde0d5      1.00     0.00        1.0   \n",
       "2      7fc069b7-03b5-4b5d-b988-e04e8884e90e      0.05     0.95        1.0   \n",
       "3      05a735d6-3ec4-424f-8d39-f5d8ca8261b2      1.00     0.00        1.0   \n",
       "4      3cd706ea-9e80-4cf8-bae0-f864418160ce      1.00     0.00        1.0   \n",
       "...                                     ...       ...      ...        ...   \n",
       "14531  0dfcf489-794e-4424-8695-9acc0081e520      0.72     0.28        0.0   \n",
       "14532  20180107-0dc1-4977-8883-1ee444f55b88      0.00     1.00        0.0   \n",
       "14533  fa442490-4e5f-4561-9bcc-a2a648d97145      0.33     0.67        0.0   \n",
       "14534  5a5202a9-a0ba-4534-a11d-fa03e9846b2b      0.25     0.75        0.0   \n",
       "14535  6ba0bc5a-a839-4120-a8e3-c62408abf049      0.00     1.00        0.0   \n",
       "\n",
       "       tumor_gt  \n",
       "0           0.0  \n",
       "1           0.0  \n",
       "2           0.0  \n",
       "3           0.0  \n",
       "4           0.0  \n",
       "...         ...  \n",
       "14531       1.0  \n",
       "14532       1.0  \n",
       "14533       1.0  \n",
       "14534       1.0  \n",
       "14535       1.0  \n",
       "\n",
       "[14536 rows x 5 columns]"
      ]
     },
     "execution_count": 28,
     "metadata": {},
     "output_type": "execute_result"
    }
   ],
   "source": [
    "df"
   ]
  },
  {
   "cell_type": "code",
   "execution_count": 29,
   "id": "photographic-scheme",
   "metadata": {},
   "outputs": [],
   "source": [
    "true = df['tumor_gt']\n",
    "score = df['tumor_p']"
   ]
  },
  {
   "cell_type": "markdown",
   "id": "seasonal-amino",
   "metadata": {},
   "source": [
    "### ROC and AUC"
   ]
  },
  {
   "cell_type": "code",
   "execution_count": 30,
   "id": "apart-blind",
   "metadata": {},
   "outputs": [],
   "source": [
    "fpr, tpr, th = roc_curve(true, score)\n",
    "auc = roc_auc_score(true, score)"
   ]
  },
  {
   "cell_type": "code",
   "execution_count": 31,
   "id": "ongoing-penalty",
   "metadata": {},
   "outputs": [
    {
     "data": {
      "text/plain": [
       "array([2.  , 1.  , 0.99, 0.98, 0.97, 0.96, 0.95, 0.94, 0.93, 0.92, 0.91,\n",
       "       0.9 , 0.89, 0.88, 0.87, 0.86, 0.85, 0.84, 0.83, 0.82, 0.81, 0.8 ,\n",
       "       0.79, 0.78, 0.77, 0.76, 0.75, 0.74, 0.73, 0.72, 0.71, 0.7 , 0.69,\n",
       "       0.68, 0.67, 0.66, 0.65, 0.64, 0.63, 0.62, 0.61, 0.6 , 0.59, 0.58,\n",
       "       0.57, 0.56, 0.55, 0.54, 0.53, 0.52, 0.51, 0.5 , 0.49, 0.48, 0.47,\n",
       "       0.46, 0.45, 0.44, 0.43, 0.42, 0.41, 0.4 , 0.39, 0.38, 0.37, 0.36,\n",
       "       0.35, 0.34, 0.33, 0.32, 0.31, 0.3 , 0.29, 0.28, 0.27, 0.26, 0.25,\n",
       "       0.24, 0.23, 0.22, 0.21, 0.2 , 0.19, 0.18, 0.17, 0.16, 0.15, 0.14,\n",
       "       0.13, 0.12, 0.11, 0.1 , 0.09, 0.08, 0.07, 0.06, 0.05, 0.04, 0.03,\n",
       "       0.02, 0.01, 0.  ])"
      ]
     },
     "execution_count": 31,
     "metadata": {},
     "output_type": "execute_result"
    }
   ],
   "source": [
    "th"
   ]
  },
  {
   "cell_type": "code",
   "execution_count": 32,
   "id": "charged-springer",
   "metadata": {},
   "outputs": [
    {
     "data": {
      "text/plain": [
       "0.9590518380494377"
      ]
     },
     "execution_count": 32,
     "metadata": {},
     "output_type": "execute_result"
    }
   ],
   "source": [
    "auc"
   ]
  },
  {
   "cell_type": "markdown",
   "id": "printable-nicholas",
   "metadata": {},
   "source": [
    "### Best accuracy threshold"
   ]
  },
  {
   "cell_type": "code",
   "execution_count": 33,
   "id": "fifteen-allergy",
   "metadata": {},
   "outputs": [],
   "source": [
    "a_s_l = []\n",
    "for t in th[1:]:\n",
    "    pred = np.array(score.values)\n",
    "    pred[pred >= t] = 1\n",
    "    pred[pred < t] = 0\n",
    "    a_s = accuracy_score(true, pred)\n",
    "    a_s_l.append(a_s)\n",
    "\n",
    "m_val = max(a_s_l)\n",
    "th_m_val = th[np.argmax(a_s_l)+1]"
   ]
  },
  {
   "cell_type": "code",
   "execution_count": 34,
   "id": "necessary-welcome",
   "metadata": {},
   "outputs": [
    {
     "data": {
      "text/plain": [
       "0.26"
      ]
     },
     "execution_count": 34,
     "metadata": {},
     "output_type": "execute_result"
    }
   ],
   "source": [
    "th_m_val"
   ]
  },
  {
   "cell_type": "markdown",
   "id": "introductory-cassette",
   "metadata": {},
   "source": [
    "### Precision-Recall curve"
   ]
  },
  {
   "cell_type": "code",
   "execution_count": 35,
   "id": "promotional-hunger",
   "metadata": {},
   "outputs": [
    {
     "name": "stdout",
     "output_type": "stream",
     "text": [
      "[0.91575508] [0.88690149]\n"
     ]
    }
   ],
   "source": [
    "prec, rec, th_pr = precision_recall_curve(true, score)\n",
    "\n",
    "th_m_val_index = np.where(th_pr == th_m_val)\n",
    "print (prec[th_m_val_index], rec[th_m_val_index])\n",
    "\n",
    "diff2 = np.power((prec[1:]-rec[1:]),2.0)\n",
    "th_min_diff = th_pr[diff2.argmin()]\n",
    "pr_rec_eq = rec[diff2.argmin()]"
   ]
  },
  {
   "cell_type": "markdown",
   "id": "initial-photography",
   "metadata": {},
   "source": [
    "### F1-score at max_accuracy threshold"
   ]
  },
  {
   "cell_type": "code",
   "execution_count": 36,
   "id": "authorized-wisdom",
   "metadata": {},
   "outputs": [
    {
     "data": {
      "text/plain": [
       "0.9010973649262599"
      ]
     },
     "execution_count": 36,
     "metadata": {},
     "output_type": "execute_result"
    }
   ],
   "source": [
    "pred = np.array(score.values)\n",
    "pred[pred >= th_m_val] = 1\n",
    "pred[pred < th_m_val] = 0\n",
    "f1_score(true, pred)"
   ]
  },
  {
   "cell_type": "code",
   "execution_count": 37,
   "id": "outside-forum",
   "metadata": {},
   "outputs": [
    {
     "data": {
      "text/plain": [
       "array([0., 0., 1., ..., 1., 1., 1.])"
      ]
     },
     "execution_count": 37,
     "metadata": {},
     "output_type": "execute_result"
    }
   ],
   "source": [
    "pred"
   ]
  },
  {
   "cell_type": "markdown",
   "id": "pointed-thomson",
   "metadata": {},
   "source": [
    "### All diagrams on a single graph"
   ]
  },
  {
   "cell_type": "code",
   "execution_count": 38,
   "id": "median-record",
   "metadata": {},
   "outputs": [
    {
     "data": {
      "image/png": "[encoded data removed]",
      "text/plain": [
       "<Figure size 864x576 with 4 Axes>"
      ]
     },
     "metadata": {
      "needs_background": "light"
     },
     "output_type": "display_data"
    }
   ],
   "source": [
    "fig, axs = plt.subplots(2,2,figsize=(12,8))\n",
    "\n",
    "fpr, tpr, th = roc_curve(true, score)\n",
    "auc = roc_auc_score(true, score)\n",
    "\n",
    "ax = axs[0,0]\n",
    "ax.plot(fpr, tpr, label='AUC: %.3f' % auc)\n",
    "ax.legend(loc='lower right')\n",
    "ax.grid()\n",
    "ax.set_xlabel('fpr')\n",
    "ax.set_ylabel('tpr (recall)')\n",
    "ax.set_title('ROC')\n",
    "\n",
    "ax = axs[0,1]\n",
    "ax.plot(prec, rec)\n",
    "ax.grid()\n",
    "ax.set_xlabel('Precision')\n",
    "ax.set_ylabel('Recall')\n",
    "ax.set_title('Precision-Recall')\n",
    "\n",
    "ax = axs[1,0]\n",
    "ax.plot(th[1:], a_s_l)\n",
    "ax.axhline(m_val, label='max acc: %.3f' % m_val, c='g', ls = '--')\n",
    "ax.axvline(th_m_val, label='th at max acc: %.2f' % th_m_val, c='k', ls='--')\n",
    "#ax.axvline(th_min_diff, c='r', ls='--', label=r'th $prec \\approx recall$: %.2f' % th_min_diff)\n",
    "ax.legend()\n",
    "ax.grid()\n",
    "ax.set_title('Accuracy vs threshold')\n",
    "ax.set_xlabel('Threshold')\n",
    "ax.set_ylabel('Accuracy')\n",
    "\n",
    "ax = axs[1,1]\n",
    "ax.plot(th_pr[:], prec[1:], label='Precision')\n",
    "ax.plot(th_pr[:], rec[1:], label='Recall')\n",
    "ax.axvline(th_min_diff, c='r', ls='--', label=r'th $prec \\simeq recall$: %.2f' % th_min_diff)\n",
    "ax.axhline(pr_rec_eq, c='r', ls='--', label=r'$prec \\simeq recall$: %.2f' % pr_rec_eq)\n",
    "#ax.axvline(th_m_val, label='th at max acc: %.2f' % th_m_val, c='k', ls='--')\n",
    "ax.grid()\n",
    "ax.legend()\n",
    "ax.set_xlabel('Threshold')\n",
    "ax.set_title('Precision and Recall vs threshold')\n",
    "\n",
    "plt.tight_layout()"
   ]
  },
  {
   "cell_type": "code",
   "execution_count": 39,
   "id": "legislative-origin",
   "metadata": {},
   "outputs": [
    {
     "name": "stdout",
     "output_type": "stream",
     "text": [
      "th:0.00 - Tumor acc: 0.9714, Normal acc: 0.7450, Mean acc: 0.8582\n",
      "th:0.11 - Tumor acc: 0.9140, Normal acc: 0.8869, Mean acc: 0.9005\n",
      "th:0.22 - Tumor acc: 0.8901, Normal acc: 0.9130, Mean acc: 0.9016\n",
      "th:0.33 - Tumor acc: 0.8752, Normal acc: 0.9271, Mean acc: 0.9011\n",
      "th:0.44 - Tumor acc: 0.8602, Normal acc: 0.9351, Mean acc: 0.8976\n",
      "th:0.56 - Tumor acc: 0.8467, Normal acc: 0.9429, Mean acc: 0.8948\n",
      "th:0.67 - Tumor acc: 0.8295, Normal acc: 0.9507, Mean acc: 0.8901\n",
      "th:0.78 - Tumor acc: 0.8067, Normal acc: 0.9598, Mean acc: 0.8833\n",
      "th:0.89 - Tumor acc: 0.7702, Normal acc: 0.9695, Mean acc: 0.8698\n",
      "th:1.00 - Tumor acc: 0.0000, Normal acc: 1.0000, Mean acc: 0.5000\n"
     ]
    }
   ],
   "source": [
    "for tmp_th in np.linspace(0.0,1.0,10):\n",
    "    true_t = (df['tumor_gt'][df['tumor_gt'] == 1]).values\n",
    "    score_t = (df['tumor_p'][df['tumor_gt'] == 1]).values\n",
    "    pred_t = np.copy(score_t) \n",
    "    pred_t[pred_t > tmp_th] = 1\n",
    "    pred_t[pred_t <= tmp_th] = 0\n",
    "\n",
    "    true_n = df['tumor_gt'][df['tumor_gt'] == 0].values\n",
    "    score_n = df['tumor_p'][df['tumor_gt'] == 0].values\n",
    "    pred_n = np.copy(score_n) \n",
    "    pred_n[pred_n > tmp_th] = 1\n",
    "    pred_n[pred_n <= tmp_th] = 0\n",
    "\n",
    "    acc_t = accuracy_score(true_t, pred_t)\n",
    "    acc_n = accuracy_score(true_n, pred_n)\n",
    "    m = np.mean([acc_t, acc_n])\n",
    "    print (f\"th:{tmp_th:.2f} - Tumor acc: {acc_t:.4f}, Normal acc: {acc_n:.4f}, Mean acc: {m:.4f}\")"
   ]
  }
 ],
 "metadata": {
  "kernelspec": {
   "display_name": "Python 3",
   "language": "python",
   "name": "python3"
  },
  "language_info": {
   "codemirror_mode": {
    "name": "ipython",
    "version": 3
   },
   "file_extension": ".py",
   "mimetype": "text/x-python",
   "name": "python",
   "nbconvert_exporter": "python",
   "pygments_lexer": "ipython3",
   "version": "3.6.9"
  }
 },
 "nbformat": 4,
 "nbformat_minor": 5
}
